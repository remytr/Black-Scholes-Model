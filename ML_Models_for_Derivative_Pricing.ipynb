{
  "nbformat": 4,
  "nbformat_minor": 0,
  "metadata": {
    "colab": {
      "provenance": [],
      "authorship_tag": "ABX9TyNzqHrwYMY2vWp9vqZTpuU1",
      "include_colab_link": true
    },
    "kernelspec": {
      "name": "python3",
      "display_name": "Python 3"
    },
    "language_info": {
      "name": "python"
    }
  },
  "cells": [
    {
      "cell_type": "markdown",
      "metadata": {
        "id": "view-in-github",
        "colab_type": "text"
      },
      "source": [
        "<a href=\"https://colab.research.google.com/github/remytr/Black-Scholes-Model/blob/main/ML_Models_for_Derivative_Pricing.ipynb\" target=\"_parent\"><img src=\"https://colab.research.google.com/assets/colab-badge.svg\" alt=\"Open In Colab\"/></a>"
      ]
    },
    {
      "cell_type": "markdown",
      "source": [
        "# Alternative Models for Option Pricing"
      ],
      "metadata": {
        "id": "X45V-X3PsOCP"
      }
    },
    {
      "cell_type": "markdown",
      "source": [
        "Numerical methods such as finite differences, fourier methods, and Monte Carlo simulation is used to value derivatives.\n",
        "\n",
        "In earlier notebooks, I have explored the use of the Black-Scholes model. There are several limitations to the Black-Scholes model as it is used only for European options, it assumes geometric Brownian motion for the movement of the derivative's price, no-arbitrage.\n",
        "\n",
        "This notebook will explore the use of a machine learning model to price an option. Will explore a supervised regression-based model."
      ],
      "metadata": {
        "id": "CAodan3WsXGc"
      }
    },
    {
      "cell_type": "code",
      "source": [],
      "metadata": {
        "id": "EagtP_OYtGG6"
      },
      "execution_count": null,
      "outputs": []
    },
    {
      "cell_type": "code",
      "source": [],
      "metadata": {
        "id": "2GEg2kbqsV3I"
      },
      "execution_count": null,
      "outputs": []
    }
  ]
}